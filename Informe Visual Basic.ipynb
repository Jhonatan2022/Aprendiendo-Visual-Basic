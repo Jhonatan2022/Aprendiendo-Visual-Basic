{
 "cells": [
  {
   "attachments": {},
   "cell_type": "markdown",
   "metadata": {},
   "source": [
    "## Aprendiendo c++ en Visual Studio Code\n",
    "\n",
    "1. Primero descargamos el aplicativo VS(Visual Studio) https://visualstudio.microsoft.com/es/downloads/\n",
    "\n",
    "2. Seleccionamos el componente de tu interes\n",
    "\n",
    "![imagenes\\seleccion.png](imagenes/seleccion.png)\n",
    "\n",
    "+ Se realiza la instalación y espera a que termine\n",
    "\n",
    "![imagenes/instal.png](imagenes/instal.png)\n",
    "\n",
    "+ Por ultimo ya lo podemos inicializar"
   ]
  },
  {
   "attachments": {},
   "cell_type": "markdown",
   "metadata": {},
   "source": [
    "## Haciendo primer ejercicio \"Hola mundo\"\n",
    "\n",
    "```VB\n",
    "Public Class Form1\n",
    "    Private Sub Form1_Load(sender As Object, e As EventArgs) Handles MyBase.Load\n",
    "        MsgBox(\"Hola a todos che\", MsgBoxStyle.DefaultButton1, \"Este es el titulo del form\")\n",
    "    End Sub\n",
    "End Class\n",
    "```\n",
    "\n",
    "1. Para ejercutar el código oprimimos ctrl + F5  o simplemente oprimimos el siguiente signo\n",
    "\n",
    "![imagenes\\ejecuta.png](imagenes/ejecuta.png)\n",
    "\n",
    "![imagenes\\ejercicio.png](imagenes/ejercicio.png)\n",
    "\n",
    "\n",
    "2. Tipos de variables\n",
    "\n",
    "+ Array\n",
    "+ Boolean\n",
    "+ Byte\n",
    "+ Currency\n",
    "+ Date\n",
    "+ Double\n",
    "+ Integer\n",
    "+ Long\n",
    "+ Single\n",
    "+ String\n",
    "+ Variant\n"
   ]
  }
 ],
 "metadata": {
  "kernelspec": {
   "display_name": "Python 3.10.8 64-bit",
   "language": "python",
   "name": "python3"
  },
  "language_info": {
   "codemirror_mode": {
    "name": "ipython",
    "version": 3
   },
   "file_extension": ".py",
   "mimetype": "text/x-python",
   "name": "python",
   "nbconvert_exporter": "python",
   "pygments_lexer": "ipython3",
   "version": "3.10.8 (tags/v3.10.8:aaaf517, Oct 11 2022, 16:50:30) [MSC v.1933 64 bit (AMD64)]"
  },
  "orig_nbformat": 4,
  "vscode": {
   "interpreter": {
    "hash": "472fbeedb143d593a450bd9e85487ed0b7b7bb937fd0ffdfb685f7804c557ff7"
   }
  }
 },
 "nbformat": 4,
 "nbformat_minor": 2
}
